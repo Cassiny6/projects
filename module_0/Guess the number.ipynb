{
 "cells": [
  {
   "cell_type": "code",
   "execution_count": 1,
   "metadata": {},
   "outputs": [
    {
     "name": "stdout",
     "output_type": "stream",
     "text": [
      "Ваш алгоритм угадывает число в среднем за 5 попыток\n"
     ]
    },
    {
     "data": {
      "text/plain": [
       "5"
      ]
     },
     "execution_count": 1,
     "metadata": {},
     "output_type": "execute_result"
    }
   ],
   "source": [
    "import numpy as np\n",
    "\n",
    "number = np.random.randint(1, 101)\n",
    "\n",
    "\n",
    "def number_guessing(number):\n",
    "    \"\"\"Сначала устанавливаем левую и правую границу диапазона загадываемого числа.\n",
    "    Функция принимает загаданное число и возвращает число попыток.\n",
    "\n",
    "    При каждой попытке берётся число в середине диапазона, если оно больше загаданного\n",
    "    используется левая половина диапазона, если меньше - правая.\n",
    "\n",
    "    \"\"\"\n",
    "    left = 1\n",
    "    right = 100\n",
    "    count = 0\n",
    "    while True:\n",
    "        count += 1\n",
    "        predict = (left + right) // 2\n",
    "        if predict == number:\n",
    "            break\n",
    "        elif predict < number:\n",
    "            left = predict + 1\n",
    "        elif predict > number:\n",
    "            right = predict - 1\n",
    "    return count  # выход из цикла, если угадали\n",
    "\n",
    "\n",
    "def score_game(game_core):\n",
    "    \"\"\"Запускаем игру 1000 раз, чтобы узнать, как быстро игра угадывает число\"\"\"\n",
    "    count_ls = []\n",
    "    np.random.seed(1)  # фиксируем RANDOM SEED, чтобы эксперимент был воспроизводим!\n",
    "    random_array = np.random.randint(1, 101, size=1000)\n",
    "    for number in random_array:\n",
    "        count_ls.append(game_core(number))\n",
    "    score = int(np.mean(count_ls))\n",
    "    print(f\"Ваш алгоритм угадывает число в среднем за {score} попыток\")\n",
    "    return score\n",
    "\n",
    "\n",
    "score_game(number_guessing)\n"
   ]
  }
 ],
 "metadata": {
  "kernelspec": {
   "display_name": "Python 3",
   "language": "python",
   "name": "python3"
  },
  "language_info": {
   "codemirror_mode": {
    "name": "ipython",
    "version": 3
   },
   "file_extension": ".py",
   "mimetype": "text/x-python",
   "name": "python",
   "nbconvert_exporter": "python",
   "pygments_lexer": "ipython3",
   "version": "3.8.5"
  }
 },
 "nbformat": 4,
 "nbformat_minor": 4
}
